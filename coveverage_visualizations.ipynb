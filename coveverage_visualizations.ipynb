{
 "cells": [
  {
   "cell_type": "code",
   "execution_count": 1,
   "id": "85a0e387",
   "metadata": {},
   "outputs": [],
   "source": [
    "import pandas as pd\n",
    "import numpy as np\n",
    "import matplotlib.pyplot as plt"
   ]
  },
  {
   "cell_type": "code",
   "execution_count": 2,
   "id": "c7d5b0f2",
   "metadata": {},
   "outputs": [],
   "source": [
    "data = pd.read_csv('states.csv')"
   ]
  },
  {
   "cell_type": "code",
   "execution_count": 3,
   "id": "556e5580",
   "metadata": {},
   "outputs": [
    {
     "name": "stdout",
     "output_type": "stream",
     "text": [
      "<class 'pandas.core.frame.DataFrame'>\n",
      "RangeIndex: 52 entries, 0 to 51\n",
      "Data columns (total 14 columns):\n",
      " #   Column                                        Non-Null Count  Dtype  \n",
      "---  ------                                        --------------  -----  \n",
      " 0   State                                         52 non-null     object \n",
      " 1   Uninsured Rate (2010)                         52 non-null     object \n",
      " 2   Uninsured Rate (2015)                         52 non-null     object \n",
      " 3   Uninsured Rate Change (2010-2015)             52 non-null     object \n",
      " 4   Health Insurance Coverage Change (2010-2015)  52 non-null     int64  \n",
      " 5   Employer Health Insurance Coverage (2015)     52 non-null     int64  \n",
      " 6   Marketplace Health Insurance Coverage (2016)  52 non-null     int64  \n",
      " 7   Marketplace Tax Credits (2016)                52 non-null     int64  \n",
      " 8   Average Monthly Tax Credit (2016)             52 non-null     object \n",
      " 9   State Medicaid Expansion (2016)               51 non-null     object \n",
      " 10  Medicaid Enrollment (2013)                    50 non-null     float64\n",
      " 11  Medicaid Enrollment (2016)                    52 non-null     int64  \n",
      " 12  Medicaid Enrollment Change (2013-2016)        50 non-null     float64\n",
      " 13  Medicare Enrollment (2016)                    52 non-null     int64  \n",
      "dtypes: float64(2), int64(6), object(6)\n",
      "memory usage: 5.8+ KB\n"
     ]
    }
   ],
   "source": [
    "data.info()\n"
   ]
  },
  {
   "cell_type": "code",
   "execution_count": 5,
   "id": "e912fbe4",
   "metadata": {},
   "outputs": [
    {
     "name": "stdout",
     "output_type": "stream",
     "text": [
      "       Health Insurance Coverage Change (2010-2015)  \\\n",
      "count                                  5.200000e+01   \n",
      "mean                                   7.479423e+05   \n",
      "std                                    2.691466e+06   \n",
      "min                                    1.500000e+04   \n",
      "25%                                    9.725000e+04   \n",
      "50%                                    2.245000e+05   \n",
      "75%                                    4.122500e+05   \n",
      "max                                    1.930400e+07   \n",
      "\n",
      "       Employer Health Insurance Coverage (2015)  \\\n",
      "count                               5.200000e+01   \n",
      "mean                                6.626615e+06   \n",
      "std                                 2.370240e+07   \n",
      "min                                 3.350000e+05   \n",
      "25%                                 8.797500e+05   \n",
      "50%                                 2.305500e+06   \n",
      "75%                                 4.386500e+06   \n",
      "max                                 1.722920e+08   \n",
      "\n",
      "       Marketplace Health Insurance Coverage (2016)  \\\n",
      "count                                  5.200000e+01   \n",
      "mean                                   4.262050e+05   \n",
      "std                                    1.538234e+06   \n",
      "min                                    1.331300e+04   \n",
      "25%                                    5.109700e+04   \n",
      "50%                                    1.306725e+05   \n",
      "75%                                    2.260822e+05   \n",
      "max                                    1.108133e+07   \n",
      "\n",
      "       Marketplace Tax Credits (2016)  Medicaid Enrollment (2013)  \\\n",
      "count                    5.200000e+01                5.000000e+01   \n",
      "mean                     3.611388e+05                2.255699e+06   \n",
      "std                      1.306590e+06                7.945644e+06   \n",
      "min                      1.224000e+03                6.751800e+04   \n",
      "25%                      4.371700e+04                2.897750e+05   \n",
      "50%                      9.817550e+04                7.946135e+05   \n",
      "75%                      1.936845e+05                1.274017e+06   \n",
      "max                      9.389609e+06                5.639248e+07   \n",
      "\n",
      "       Medicaid Enrollment (2016)  Medicaid Enrollment Change (2013-2016)  \\\n",
      "count                5.200000e+01                            5.000000e+01   \n",
      "mean                 2.828190e+06                            6.442463e+05   \n",
      "std                  1.017933e+07                            2.306655e+06   \n",
      "min                  6.358300e+04                           -3.935000e+03   \n",
      "25%                  3.091128e+05                            5.397900e+04   \n",
      "50%                  9.780525e+05                            2.341560e+05   \n",
      "75%                  1.732724e+06                            4.562492e+05   \n",
      "max                  7.353293e+07                            1.610616e+07   \n",
      "\n",
      "       Medicare Enrollment (2016)  \n",
      "count                5.200000e+01  \n",
      "mean                 2.173923e+06  \n",
      "std                  7.855834e+06  \n",
      "min                  8.896600e+04  \n",
      "25%                  3.208870e+05  \n",
      "50%                  8.187530e+05  \n",
      "75%                  1.298255e+06  \n",
      "max                  5.714998e+07  \n"
     ]
    }
   ],
   "source": [
    "summary_stats = data.describe()\n",
    "print(summary_stats)\n"
   ]
  },
  {
   "cell_type": "code",
   "execution_count": 6,
   "id": "0cf7ac6e",
   "metadata": {},
   "outputs": [
    {
     "name": "stdout",
     "output_type": "stream",
     "text": [
      "State                                           0\n",
      "Uninsured Rate (2010)                           0\n",
      "Uninsured Rate (2015)                           0\n",
      "Uninsured Rate Change (2010-2015)               0\n",
      "Health Insurance Coverage Change (2010-2015)    0\n",
      "Employer Health Insurance Coverage (2015)       0\n",
      "Marketplace Health Insurance Coverage (2016)    0\n",
      "Marketplace Tax Credits (2016)                  0\n",
      "Average Monthly Tax Credit (2016)               0\n",
      "State Medicaid Expansion (2016)                 1\n",
      "Medicaid Enrollment (2013)                      2\n",
      "Medicaid Enrollment (2016)                      0\n",
      "Medicaid Enrollment Change (2013-2016)          2\n",
      "Medicare Enrollment (2016)                      0\n",
      "dtype: int64\n"
     ]
    }
   ],
   "source": [
    "missing_values = data.isnull().sum()\n",
    "print(missing_values)"
   ]
  },
  {
   "cell_type": "code",
   "execution_count": 13,
   "id": "444d7884",
   "metadata": {},
   "outputs": [
    {
     "data": {
      "image/png": "[encoded data removed]",
      "text/plain": [
       "<Figure size 432x288 with 1 Axes>"
      ]
     },
     "metadata": {
      "needs_background": "light"
     },
     "output_type": "display_data"
    }
   ],
   "source": [
    "data['Uninsured Rate (2010)'] = data['Uninsured Rate (2010)'].str.strip().str.rstrip('%').astype('float')\n",
    "data['Uninsured Rate (2010)'].plot(kind='hist', bins=10, color='skyblue', edgecolor='black')\n",
    "plt.title('Distribution of Uninsured Rate (2010)')\n",
    "plt.xlabel('Uninsured Rate (%)')\n",
    "plt.ylabel('Frequency')\n",
    "plt.show()\n"
   ]
  },
  {
   "cell_type": "code",
   "execution_count": 12,
   "id": "efbe67a6",
   "metadata": {},
   "outputs": [
    {
     "data": {
      "text/plain": [
       "0    14.6%\n",
       "1    19.9%\n",
       "2    16.9%\n",
       "3    17.5%\n",
       "4    18.5%\n",
       "Name: Uninsured Rate (2010), dtype: object"
      ]
     },
     "execution_count": 12,
     "metadata": {},
     "output_type": "execute_result"
    }
   ],
   "source": [
    "data['Uninsured Rate (2010)'].head()"
   ]
  },
  {
   "cell_type": "code",
   "execution_count": null,
   "id": "8c7a155e",
   "metadata": {},
   "outputs": [],
   "source": []
  }
 ],
 "metadata": {
  "kernelspec": {
   "display_name": "Python 3 (ipykernel)",
   "language": "python",
   "name": "python3"
  },
  "language_info": {
   "codemirror_mode": {
    "name": "ipython",
    "version": 3
   },
   "file_extension": ".py",
   "mimetype": "text/x-python",
   "name": "python",
   "nbconvert_exporter": "python",
   "pygments_lexer": "ipython3",
   "version": "3.9.12"
  }
 },
 "nbformat": 4,
 "nbformat_minor": 5
}
